{
 "cells": [
  {
   "cell_type": "code",
   "execution_count": 3,
   "id": "incident-athens",
   "metadata": {},
   "outputs": [
    {
     "name": "stdout",
     "output_type": "stream",
     "text": [
      "Requirement already satisfied: pandas in /home/khaled/miniconda3/envs/data-analysis/lib/python3.8/site-packages (1.2.3)\r\n",
      "Requirement already satisfied: python-dateutil>=2.7.3 in /home/khaled/miniconda3/envs/data-analysis/lib/python3.8/site-packages (from pandas) (2.8.1)\r\n",
      "Requirement already satisfied: pytz>=2017.3 in /home/khaled/miniconda3/envs/data-analysis/lib/python3.8/site-packages (from pandas) (2021.1)\r\n",
      "Requirement already satisfied: numpy>=1.16.5 in /home/khaled/miniconda3/envs/data-analysis/lib/python3.8/site-packages (from pandas) (1.19.2)\r\n",
      "Requirement already satisfied: six>=1.5 in /home/khaled/miniconda3/envs/data-analysis/lib/python3.8/site-packages (from python-dateutil>=2.7.3->pandas) (1.15.0)\r\n"
     ]
    }
   ],
   "source": []
  },
  {
   "cell_type": "code",
   "execution_count": null,
   "id": "bronze-bargain",
   "metadata": {},
   "outputs": [],
   "source": []
  }
 ],
 "metadata": {
  "kernelspec": {
   "display_name": "Python 3",
   "language": "python",
   "name": "python3"
  },
  "language_info": {
   "codemirror_mode": {
    "name": "ipython",
    "version": 3
   },
   "file_extension": ".py",
   "mimetype": "text/x-python",
   "name": "python",
   "nbconvert_exporter": "python",
   "pygments_lexer": "ipython3",
   "version": "3.9.1"
  }
 },
 "nbformat": 4,
 "nbformat_minor": 5
}
